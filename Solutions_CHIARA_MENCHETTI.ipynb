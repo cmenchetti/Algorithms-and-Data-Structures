{
 "cells": [
  {
   "attachments": {},
   "cell_type": "markdown",
   "metadata": {},
   "source": [
    "**Author**: Chiara Menchetti\n",
    "\n",
    "# ALGORITHMS & DATA STRUCTURES"
   ]
  },
  {
   "attachments": {},
   "cell_type": "markdown",
   "metadata": {},
   "source": [
    "---\n",
    "# Lecture 1\n",
    "---"
   ]
  },
  {
   "attachments": {},
   "cell_type": "markdown",
   "metadata": {},
   "source": [
    "### Exercise: Selection Sort\n",
    "Write the function ```SelectionSort(coll)``` that returns a sorted list with the elements in *coll*. \n",
    "You have to implements Selection Sort algorithm."
   ]
  },
  {
   "cell_type": "code",
   "execution_count": 1,
   "metadata": {},
   "outputs": [],
   "source": [
    "def SelectionSort(coll):\n",
    "    A = list(coll)\n",
    "    for i in range(len(A)): \n",
    "        min_idx = i \n",
    "        for j in range(i+1, len(A)): \n",
    "            if A[min_idx] > A[j]: \n",
    "                min_idx = j         \n",
    "        A[i], A[min_idx] = A[min_idx], A[i]\n",
    "    return A"
   ]
  },
  {
   "cell_type": "code",
   "execution_count": 2,
   "metadata": {},
   "outputs": [
    {
     "name": "stdout",
     "output_type": "stream",
     "text": [
      "[0, 1, 2, 3, 4, 5, 6, 7, 8, 9]\n"
     ]
    }
   ],
   "source": [
    "# Check the implementation\n",
    "def test_sortedness(my_list):\n",
    "    return my_list == sorted(my_list)\n",
    "\n",
    "my_list = list(range(10))[::-1]\n",
    "\n",
    "print(SelectionSort(my_list))\n",
    "\n",
    "assert test_sortedness( SelectionSort(my_list) ), \"Must be increasing!\""
   ]
  },
  {
   "cell_type": "markdown",
   "metadata": {},
   "source": [
    "----\n",
    "### Exercise: Insertion Sort\n",
    "Write the function ```InsertionSort(coll)``` that returns a sorted list with the elements in *coll*. \n",
    "You have to implements Insertion Sort algorithm."
   ]
  },
  {
   "cell_type": "code",
   "execution_count": 3,
   "metadata": {},
   "outputs": [],
   "source": [
    "def InsertionSort(coll):\n",
    "    A = list(coll)\n",
    "    for i in range(1, len(A)):\n",
    "        key = A[i]\n",
    "        j = i-1\n",
    "        while j >= 0 and key < A[j]:\n",
    "            A[j+1] = A[j]\n",
    "            j -= 1\n",
    "        A[j+1] = key\n",
    "    return A"
   ]
  },
  {
   "cell_type": "code",
   "execution_count": 4,
   "metadata": {},
   "outputs": [
    {
     "name": "stdout",
     "output_type": "stream",
     "text": [
      "[0, 1, 2, 3, 4, 5, 6, 7, 8, 9]\n"
     ]
    }
   ],
   "source": [
    "# Check the implementation\n",
    "my_list = list(range(10))[::-1]\n",
    "\n",
    "print(InsertionSort(my_list))\n",
    "\n",
    "assert test_sortedness( InsertionSort(my_list) ), \"Must be increasing!\""
   ]
  },
  {
   "cell_type": "markdown",
   "metadata": {},
   "source": [
    "----\n",
    "### Exercise: Strange orderings\n",
    "Given a list, write and test comparators to obtain the following orderings:\n",
    "- Even number precede odd ones. Even numbers are sorted in non-decreasing  order while odd ones are sorted in non-increasing order.\n",
    "- Strings are sorted in non-increasing order based on their lengths. Strings having the same length are sorted in non-increasing lexicographic order. "
   ]
  },
  {
   "cell_type": "code",
   "execution_count": 5,
   "metadata": {},
   "outputs": [],
   "source": [
    "my_list = list(range(10))\n",
    "my_list2 = [\"a\", \"b\", \"aba\", \"cad\", \"zzzz\", \"aaaa\"]"
   ]
  },
  {
   "cell_type": "code",
   "execution_count": 6,
   "metadata": {},
   "outputs": [],
   "source": [
    "import functools\n",
    "\n",
    "# Point 1\n",
    "def my_cmp1(a,b):\n",
    "    if a%2 == 0:\n",
    "        if b%2 == 0:\n",
    "            return a-b  # if both a & b even: return b before a\n",
    "        return -1  # if a even & b odd: return a before b\n",
    "    else:\n",
    "        if b%2 == 0:\n",
    "            return 1  # if a odd & b even: return b before a\n",
    "        return b-a  # if both a & b odd: return a before b\n",
    "    \n",
    "        \n",
    "# Point 2\n",
    "def my_cmp2(a,b):\n",
    "    if len(a) == len(b):\n",
    "        if a < b:\n",
    "            return 1  # decreasing lexicographical order\n",
    "        return -1  # increasing lexicographical order\n",
    "    return len(b) - len(a)  # if a & b have not the same lenght return the longest word first   "
   ]
  },
  {
   "cell_type": "code",
   "execution_count": 7,
   "metadata": {},
   "outputs": [
    {
     "name": "stdout",
     "output_type": "stream",
     "text": [
      "[0, 2, 4, 6, 8, 9, 7, 5, 3, 1]\n",
      "['zzzz', 'aaaa', 'cad', 'aba', 'b', 'a']\n"
     ]
    }
   ],
   "source": [
    "# Check the implementation\n",
    "print( sorted(my_list, key=functools.cmp_to_key(my_cmp1)) )\n",
    "print( sorted(my_list2, key=functools.cmp_to_key(my_cmp2)) )"
   ]
  },
  {
   "cell_type": "markdown",
   "metadata": {},
   "source": [
    "-----\n",
    "### Exercise: Insertion Sort with a comparator\n",
    "Write the function ```InsertionSort(coll, cmp)``` that returns a sorted list with the elements in *coll* using \n",
    "```cmp```as a comparator."
   ]
  },
  {
   "cell_type": "code",
   "execution_count": 8,
   "metadata": {},
   "outputs": [],
   "source": [
    "def cmp(a,b):\n",
    "    return b-a  # a is before if larger than b\n",
    "\n",
    "\n",
    "def InsertionSort(coll, cmp):\n",
    "    A = list(coll)\n",
    "    for i in range(1, len(A)):\n",
    "        key = A[i]\n",
    "        j = i-1\n",
    "        while j >= 0 and cmp(A[j], key) > 0:  # addition of the comparator cmp previously defined \n",
    "            A[j+1] = A[j]\n",
    "            j -= 1\n",
    "        A[j+1] = key\n",
    "    return A"
   ]
  },
  {
   "cell_type": "code",
   "execution_count": 9,
   "metadata": {},
   "outputs": [],
   "source": [
    "# Check the implementation\n",
    "def test_sortedness(my_list, cmp):\n",
    "    return InsertionSort(my_list, cmp) == sorted(my_list, key = functools.cmp_to_key(cmp))\n",
    "\n",
    "assert test_sortedness(my_list, cmp), \"Must be sorted\"\n",
    "assert test_sortedness(my_list, my_cmp1), \"Must be sorted\"\n",
    "assert test_sortedness(my_list2, my_cmp2), \"Must be sorted\""
   ]
  },
  {
   "cell_type": "markdown",
   "metadata": {},
   "source": [
    "-----\n",
    "\n",
    "### Exercise: Intersection of two lists\n",
    "Write a function ```intersection_slow(l1, l2)``` which returns the intersection of the two lists l1 and l2.\n",
    "\n",
    "Use the trivial algorithms that runs in $\\Theta(|l1|\\times|l2|)$. "
   ]
  },
  {
   "cell_type": "code",
   "execution_count": 10,
   "metadata": {},
   "outputs": [],
   "source": [
    "def intersection_slow(l1, l2):\n",
    "    l3 = []\n",
    "    for e in l1:\n",
    "        if e in l2:\n",
    "            l3.append(e)        \n",
    "    return l3"
   ]
  },
  {
   "cell_type": "code",
   "execution_count": 11,
   "metadata": {},
   "outputs": [],
   "source": [
    "# Check the implementation\n",
    "l1 = [3, 5, 1, 2]\n",
    "l2 = [1, 4, 6, 2]\n",
    "\n",
    "assert set(intersection_slow(l1, l2)) == set([1, 2]), \"Urca\""
   ]
  },
  {
   "cell_type": "markdown",
   "metadata": {},
   "source": [
    "----\n",
    "### Exercise: Faster intersection of two lists\n",
    "Write a function ```intersection(l1, l2)``` which returns the intersection of the two lists l1 and l2.\n",
    "\n",
    "Assume that both l1 and l2 are sorted!"
   ]
  },
  {
   "cell_type": "code",
   "execution_count": 12,
   "metadata": {},
   "outputs": [],
   "source": [
    "def intersection(l1, l2):\n",
    "    l3 = []\n",
    "    i = 0\n",
    "    j = 0\n",
    "    while i < len(l1) and j < len(l2):\n",
    "        if l1[i] == l2[j]:\n",
    "            # if the elements in position i in l1 and element in position j in l2 are equal, then we found an element in common\n",
    "            l3.append(l1[i])\n",
    "            # and go on by incrementing both pointers\n",
    "            i += 1\n",
    "            j += 1\n",
    "        # otherwise one of the two pointers will indicate a smaller element, then we increase only that pointer\n",
    "        elif l1[i] < l2[j]:\n",
    "            i += 1\n",
    "        else:\n",
    "            j += 1\n",
    "    return l3"
   ]
  },
  {
   "cell_type": "code",
   "execution_count": 13,
   "metadata": {},
   "outputs": [],
   "source": [
    "# Check the implementation\n",
    "l1 = sorted([3, 5, 1, 2])\n",
    "l2 = sorted([1, 4, 6, 2])\n",
    "\n",
    "assert set(intersection(l1, l2)) == set([1, 2]), \"Urca\""
   ]
  },
  {
   "cell_type": "markdown",
   "metadata": {},
   "source": [
    "----\n",
    "### Exercise: You own search engine\n",
    "You are given a collection of texts and you want to build your own search engine, people at Google are already very scared!\n",
    "\n",
    "Modern search engines are based on a data structure called *Inverted Index*. \n",
    "\n",
    "Each document of the collection is assigned an identifier, starting from 0.\n",
    "An inverted index stores a list, called *inverted list*, for each term of the collection.\n",
    "The list for a term *t* contains the identifiers of all the documents containing term *t*. The list is sorted.\n",
    "\n",
    "For example,\n",
    "\n",
    "````\n",
    "C = [\"dog cat elephant monkey\",  \"dog lion tiger\", \"fish dog dog cat cow\"]\n",
    "\n",
    "````\n",
    "\n",
    "The list of term *cat* is [0,2], the list of *elephant* is [0].\n",
    "\n",
    "Given two terms, an AND query reports all the documents containing both terms. For example, \n",
    "*query(\"cat\", \"dog\"), the result is [0, 2].\n",
    "\n",
    "You goal is to implement a simple search engine. Do the following. \n",
    "\n",
    "- Given the collection, build a dictionary that maps each term to its inverted list. Observe that \n",
    "each document occurs at most once in each list. \n",
    "- Implement a function *query* which answers an AND query. "
   ]
  },
  {
   "cell_type": "code",
   "execution_count": 14,
   "metadata": {},
   "outputs": [],
   "source": [
    "def build_index(C):\n",
    "    index = {}\n",
    "    for i, doc in enumerate(C):  # iterate over indexes and documents in collection\n",
    "        for term in doc.split():  # iterate over terms in each document of collection (by splitting the words in the docs)\n",
    "            if term not in index:  \n",
    "                index[term] = []  # if term is not in set, create a list\n",
    "            index[term].append(i)  # if term is in set, then append position i\n",
    "    return index\n",
    "\n",
    "\n",
    "def query(index, t1, t2):\n",
    "    return intersection(index[t1], index[t2])  # query by using the previous intersection function"
   ]
  },
  {
   "cell_type": "code",
   "execution_count": 15,
   "metadata": {},
   "outputs": [],
   "source": [
    "# Check the implementation\n",
    "C = [\"dog cat elephant monkey\",  \"dog lion tiger\", \"fish dog dog cat cow\"]\n",
    "\n",
    "index = build_index(C)\n",
    "assert query(index, \"cat\", \"dog\") == [0, 2], \"Urca\""
   ]
  },
  {
   "cell_type": "markdown",
   "metadata": {},
   "source": [
    "----\n",
    "# Lecture 2\n",
    "---"
   ]
  },
  {
   "cell_type": "code",
   "execution_count": 16,
   "metadata": {},
   "outputs": [],
   "source": [
    "## Define some function useful for testing\n",
    "import random\n",
    "\n",
    "## generate an array of n random integers up to 10000\n",
    "def get_random_array(n):\n",
    "    return [random.randint(0, 10000) for _ in range(n)]\n",
    "\n",
    "def test_sorting_algorithm(algorithm):\n",
    "    for _ in range(100):\n",
    "        A = get_random_array(random.randint(0, 1000))\n",
    "        A_sorted = algorithm(A)\n",
    "        assert A_sorted == sorted(A), \"FAIL!\"\n",
    "        \n",
    "# testing testing function\n",
    "test_sorting_algorithm(sorted)"
   ]
  },
  {
   "cell_type": "markdown",
   "metadata": {},
   "source": [
    "### Exercise: Binary Vector\n",
    "You are given a binary vector, i.e., each element is either 0 or 1. Implements an easy variant of partition to sort the vector.\n"
   ]
  },
  {
   "cell_type": "code",
   "execution_count": 17,
   "metadata": {},
   "outputs": [
    {
     "name": "stdout",
     "output_type": "stream",
     "text": [
      "Original list:  [1, 0, 1, 0, 1, 0, 1, 1, 1, 0, 1, 1, 1, 0, 1, 0, 1, 0, 0, 0]\n"
     ]
    }
   ],
   "source": [
    "binary = [random.randint(0,1) for _ in range(20)]\n",
    "print('Original list: ', binary)"
   ]
  },
  {
   "cell_type": "code",
   "execution_count": 18,
   "metadata": {},
   "outputs": [],
   "source": [
    "def my_partition(A, low, high):\n",
    "    # set the pivot equal to 0 (or alternatively to 1)\n",
    "    pivot = 0 \n",
    "    i = low-1\n",
    "    for j in range(low, high):\n",
    "        if A[j] <= pivot:\n",
    "            i += 1\n",
    "            A[i], A[j] = A[j], A[i]\n",
    "    A[i+1], A[high] = A[high], A[i+1]\n",
    "    return A"
   ]
  },
  {
   "cell_type": "code",
   "execution_count": 19,
   "metadata": {},
   "outputs": [
    {
     "name": "stdout",
     "output_type": "stream",
     "text": [
      "Sorted list:  [0, 0, 0, 0, 0, 0, 0, 0, 0, 1, 1, 1, 1, 1, 1, 1, 1, 1, 1, 1]\n"
     ]
    }
   ],
   "source": [
    "# Check the implementation\n",
    "print('Sorted list: ', my_partition(binary, 0, len(binary)-1))"
   ]
  },
  {
   "cell_type": "markdown",
   "metadata": {},
   "source": [
    "\n",
    "---\n",
    "### Exercise: QuickSort\n",
    "Below an implementation of QuickSort. \n",
    "\n",
    "In this exercise you have to:\n",
    "- Write detailed comments to describe crucial parts of the code below (to prove you have understand it)\n",
    "- Implement a random selection of the pivot element"
   ]
  },
  {
   "cell_type": "code",
   "execution_count": 20,
   "metadata": {},
   "outputs": [],
   "source": [
    "def partition(A, low, high): \n",
    "    randpivot = random.randint(low, high) # select a random integer\n",
    "    A[high], A[randpivot] = A[randpivot], A[high] # swap last element of A with randpivot\n",
    "    \n",
    "    pivot = A[high] # pivot is now the element in the last position A[high]\n",
    "    i = low-1 # i is initialized to low-1\n",
    "    \n",
    "    for j in range(low, high): \n",
    "        if A[j] <= pivot: # if the element in position j is <= than the pivot\n",
    "            i = i+1 # increment position i by one\n",
    "            A[i], A[j] = A[j], A[i] # then swap the element in position j with the element in position i\n",
    "    \n",
    "    A[i+1], A[high] = A[high], A[i+1] # swap the pivot with the element in position i+1\n",
    "    return i+1"
   ]
  },
  {
   "cell_type": "code",
   "execution_count": 21,
   "metadata": {},
   "outputs": [],
   "source": [
    "def quickSort_rec(A, low, high):\n",
    "    if low < high: \n",
    "        pi = partition(A, low, high) \n",
    "        quickSort_rec(A, low, pi-1) \n",
    "        quickSort_rec(A, pi+1, high) "
   ]
  },
  {
   "cell_type": "code",
   "execution_count": 22,
   "metadata": {},
   "outputs": [],
   "source": [
    "def quickSort(B):\n",
    "    A = B[:] # Copy the array just because we decided to return a sorted copy of the original array \n",
    "    quickSort_rec(A, 0, len(A)-1)\n",
    "    return A"
   ]
  },
  {
   "cell_type": "code",
   "execution_count": 23,
   "metadata": {},
   "outputs": [
    {
     "name": "stdout",
     "output_type": "stream",
     "text": [
      "[1, 2, 3, 4]\n"
     ]
    }
   ],
   "source": [
    "print(quickSort([2, 1, 4, 3]))"
   ]
  },
  {
   "cell_type": "code",
   "execution_count": 24,
   "metadata": {},
   "outputs": [],
   "source": [
    "# Check the implementation\n",
    "test_sorting_algorithm(quickSort)"
   ]
  },
  {
   "cell_type": "markdown",
   "metadata": {},
   "source": [
    "----\n",
    "### Exercise: Merge Sort\n",
    "Complete the implementation of Merge Sort by implementing function ```merge()```."
   ]
  },
  {
   "cell_type": "code",
   "execution_count": 25,
   "metadata": {},
   "outputs": [],
   "source": [
    "def merge(A, l, m, r): # given an array A: l=left, m=middle, r=right positions\n",
    "    n1 = m - l + 1 # lenght of left subarray\n",
    "    n2 = r - m # lenght of right subarray\n",
    "    L = [0]*n1 # list initialized with n1 positions\n",
    "    R = [0]*n2 # list initialized with n2 positions\n",
    "    \n",
    "    for i in range(0, n1):\n",
    "        L[i] = A[l+i] # just copying the subarray\n",
    "    for j in range(0, n2):\n",
    "        R[j] = A[m+j+1] # just copying the subarray\n",
    "    \n",
    "    # we need 3 while loops bc there are no sentinels (i.e. there is no notion of +inf)\n",
    "    i = 0\n",
    "    j = 0\n",
    "    k = l\n",
    "    while i < n1 and j < n2:\n",
    "        if L[i] <= R[j]: # if element in L[i] <= than element in position R[j]\n",
    "            A[k] = L[i] \n",
    "            i += 1\n",
    "        else: # otherwise if L[i] > R[j]\n",
    "            A[k] = R[j]\n",
    "            j += 1\n",
    "        k += 1\n",
    "            \n",
    "    while i < n1:\n",
    "        A[k] = L[i] # copy from L\n",
    "        i += 1\n",
    "        k += 1\n",
    "        \n",
    "    while j < n2:\n",
    "        A[k] = R[j] # copy from R\n",
    "        j += 1\n",
    "        k += 1"
   ]
  },
  {
   "cell_type": "code",
   "execution_count": 26,
   "metadata": {},
   "outputs": [],
   "source": [
    "def mergeSort_rec(A, l, r): \n",
    "    \n",
    "    if l < r:       \n",
    "        m = (l+(r-1))//2  # Same as (l+r)//2, but avoids overflow for large l and h \n",
    "    \n",
    "        # Sort first and second halves \n",
    "        mergeSort_rec(A, l, m) \n",
    "        mergeSort_rec(A, m+1, r) \n",
    "        merge(A, l, m, r)"
   ]
  },
  {
   "cell_type": "code",
   "execution_count": 27,
   "metadata": {},
   "outputs": [],
   "source": [
    "def mergeSort(B):\n",
    "    A = B[:] # Copy the array just because we decided to return a sorted copy of the original array \n",
    "    mergeSort_rec(A, 0, len(A)-1)\n",
    "    return A"
   ]
  },
  {
   "cell_type": "code",
   "execution_count": 28,
   "metadata": {},
   "outputs": [],
   "source": [
    "# Check the implementation\n",
    "test_sorting_algorithm(mergeSort)"
   ]
  },
  {
   "cell_type": "markdown",
   "metadata": {},
   "source": [
    "----\n",
    "# Lecture 3\n",
    "----\n",
    "### Exercise: Activity Selection Problem\n",
    "Activity selection problem is a problem in which a person has a list of works to do. \n",
    "\n",
    "Each of the activities has a starting time and ending time. \n",
    "\n",
    "We need to schedule the activities in such a way the person can complete a maximum number of activities. \n",
    "\n",
    "Since the timing of the activities  may overlap, so it might not be possible to complete all the activities and thus we need to schedule the activities in such a way that the maximum number of activities can be finished."
   ]
  },
  {
   "cell_type": "code",
   "execution_count": 29,
   "metadata": {},
   "outputs": [],
   "source": [
    "def ActivitySelection(activities):\n",
    "    activities.sort(key = lambda x: x[1])  # sort activities by finishing time (if x[0] it sorts by starting time)\n",
    "    selected = []  # new list to then append the selected activities\n",
    "    for cur_act in activities:\n",
    "        if len(selected) == 0 or cur_act[0] >= selected[-1][1]:  # if the list is empty or if the current antivity's starting time is bigger than the finishing time of the previous activity\n",
    "            selected.append(cur_act)                             # then add the current activity to the list of selected activities \n",
    "    return selected"
   ]
  },
  {
   "cell_type": "code",
   "execution_count": 30,
   "metadata": {},
   "outputs": [],
   "source": [
    "# Check the implementation\n",
    "A = [(4,6),(0,2),(1,3),(1,6),(3,4)]\n",
    "assert ActivitySelection(A) == [(0, 2), (3, 4), (4, 6)], \"Fail!\""
   ]
  },
  {
   "cell_type": "markdown",
   "metadata": {},
   "source": [
    "----\n",
    "### Exercise: Fractional Knapsack Problem\n",
    "\n",
    "Your goal: Write a function fractional_knapsack(L,W) which takes a list L of pairs (value, weight) and the capacity  𝑊  and returns maximum possible value we can obtain by selecting items."
   ]
  },
  {
   "cell_type": "code",
   "execution_count": 31,
   "metadata": {},
   "outputs": [],
   "source": [
    "def fractional_knapsack(L,W):\n",
    "    L.sort(key = lambda x: x[0]/x[1], reverse = True) # sort (in decreasing order) the elements of L based on a ratio = values/weight\n",
    "    max_value = 0 \n",
    "    for i, tup in enumerate(L): \n",
    "        if L[i][1] <= W: # if the weight of the element in index i is <= W (max capacity)\n",
    "            max_value += L[i][0] # add the value to the variable storing the maximum possible value\n",
    "            W -= L[i][1] # subtract the weight from W\n",
    "        else: # if L[i][1] > W\n",
    "            fractional_weight = W/L[i][1] # compute the fractional weight\n",
    "            max_value += L[i][0]*fractional_weight # add the fractional weight\n",
    "            break\n",
    "    return max_value # return the maximum possible value"
   ]
  },
  {
   "cell_type": "code",
   "execution_count": 32,
   "metadata": {},
   "outputs": [],
   "source": [
    "# Check the implementation\n",
    "L = [(60, 10), (100, 20), (120, 30)]\n",
    "assert fractional_knapsack(L, 50) == 240.0, \"Fail!\"\n",
    "\n",
    "L = [(30, 5), (40, 10), (45, 15), (77, 22), (90, 25)]\n",
    "assert fractional_knapsack(L, 60) == 230.0, \"Fail!\"\n",
    "assert fractional_knapsack(L, 15) == 70.0,  \"Fail!\"\n",
    "assert fractional_knapsack(L, 10) == 50.0,  \"Fail!\""
   ]
  },
  {
   "cell_type": "markdown",
   "metadata": {},
   "source": [
    "----\n",
    "# Lecture 4\n",
    "\n",
    "----"
   ]
  },
  {
   "cell_type": "code",
   "execution_count": 33,
   "metadata": {},
   "outputs": [],
   "source": [
    "## Define some function useful for testing\n",
    "import random\n",
    "\n",
    "## generate an array of n random integers up to b\n",
    "def get_random_array(n, b = 50):\n",
    "    return [random.randint(0, b) for _ in range(n)]"
   ]
  },
  {
   "cell_type": "markdown",
   "metadata": {},
   "source": [
    "### Exercise: K-largest elements of a array\n",
    "\n",
    "We want to compute the K-largest elements of a array A. \n",
    "\n",
    "There are three possible algorithms to solve this problem:\n",
    "\n",
    "\n",
    "#### Algorithm 1: Sorting\n",
    "The easiest way to solve this is by sorting the array in decreasing order and reporting the first K elements. \n",
    "\n",
    "This algorithm costs $\\Theta(n\\log n)$ time. \n",
    "\n",
    "Implement this algorithm in a function ```k_largest_sort(A, K)```and test its correctness.\n",
    "\n",
    "#### Algorithm 2: QuickSelect\n",
    "Implement the QuickSelect algorithm and use it to find the K-largest element E in the array A. Then, scan A again \n",
    "to collect the K elements larger than or equal to E. Finally, sort the collected elements.\n",
    "\n",
    "This algorithm costs $\\Theta(n + K\\log K)$ time (in expectation). \n",
    "\n",
    "Implement this algorithm in a function ```k_largest_quickselect(A, K)```and test its correctness.\n",
    "\n",
    "\n",
    "#### Algorithm 3: Heap\n",
    "You have to implement the following faster algorithm as a function ```k_largest(A,K)```.\n",
    "- Scan the array from left to right and keep a min-heap. The min-heap will contain at most K elements.\n",
    "- Insert the current element into the heap, if the heap has less than K elements or the current element is larger than the minimum in the heap. If the heap has more than K elements, remove the minimum. \n",
    "- Sort the collected elements.\n",
    "\n",
    "This algorithm runs in $\\Theta(n\\log K)$ time.\n",
    "\n",
    "Implement this algorithm in a function ```k_largest_heap(A, K)```and test its correctness."
   ]
  },
  {
   "cell_type": "code",
   "execution_count": 34,
   "metadata": {},
   "outputs": [],
   "source": [
    "import heapq"
   ]
  },
  {
   "cell_type": "code",
   "execution_count": 35,
   "metadata": {},
   "outputs": [],
   "source": [
    "### Algorithm 1 \n",
    "\n",
    "def k_largest_sort(A, K):\n",
    "    A.sort(reverse = True)\n",
    "    return A[0:K]"
   ]
  },
  {
   "cell_type": "code",
   "execution_count": 36,
   "metadata": {},
   "outputs": [],
   "source": [
    "### Algorithm 2 \n",
    "\n",
    "def partition(A, low, high): \n",
    "    randpivot = random.randint(low, high) # randomly select pivot \n",
    "    A[high], A[randpivot] = A[randpivot], A[high]  \n",
    "    pivot = A[high] # pivot is stored in the last position of A\n",
    "    i = low-1\n",
    "    for j in range(low, high): \n",
    "        if A[j] >= pivot: # >= because we are looking for the largest elements\n",
    "            i = i+1 \n",
    "            A[i], A[j] = A[j], A[i] \n",
    "    A[i+1], A[high] = A[high], A[i+1] \n",
    "    return i+1\n",
    "\n",
    "def QuickSelect(A, i, p, r):\n",
    "    if p == r:\n",
    "        return A[p]\n",
    "    q = partition(A, p, r) # q is the pivot\n",
    "    k = q-p+1\n",
    "    if i == k:\n",
    "        return A[q]\n",
    "    if i < k:\n",
    "        return QuickSelect(A, i, p, q-1)\n",
    "    else:\n",
    "        return QuickSelect(A, i-k, q+1, r)\n",
    "\n",
    "def k_largest_quickselect(A, K):\n",
    "    k_largest = []\n",
    "    E = QuickSelect(A, K, 0, len(A)-1)\n",
    "    for elem in A:\n",
    "        if elem >= E:\n",
    "            k_largest.append(elem)\n",
    "    return k_largest"
   ]
  },
  {
   "cell_type": "code",
   "execution_count": 37,
   "metadata": {},
   "outputs": [],
   "source": [
    "### Algorithm 3 \n",
    "\n",
    "def k_largest_heap(A,K):\n",
    "    min_heap = [] # keep a min_heap\n",
    "    for elem in A: # scan the array from left to right\n",
    "        if (len(min_heap) <= K) or (elem > min_heap[0]): # if the min_heap has less than K elements or the current element is larger than the minimum in the heap\n",
    "            heapq.heappush(min_heap, elem) # insert the current element into the heap\n",
    "        if len(min_heap) > K: # if the heap has more than K elements\n",
    "            heapq.heappop(min_heap) # remove the minimum\n",
    "    return sorted(min_heap, reverse = True) # sort the collected elements"
   ]
  },
  {
   "cell_type": "code",
   "execution_count": 38,
   "metadata": {},
   "outputs": [
    {
     "name": "stdout",
     "output_type": "stream",
     "text": [
      "k_largest_sort: [9999, 9984, 9977, 9953, 9951]\n",
      "k_largest_quickselect: [9999, 9984, 9977, 9953, 9951]\n",
      "k_largest_heap: [9999, 9984, 9977, 9953, 9951]\n"
     ]
    }
   ],
   "source": [
    "## check the implementation\n",
    "a = get_random_array(1000, 10000)\n",
    "\n",
    "print(\"k_largest_sort:\", k_largest_sort(a, 5))\n",
    "print(\"k_largest_quickselect:\", k_largest_quickselect(a, 5))\n",
    "print(\"k_largest_heap:\", k_largest_heap(a, 5))\n",
    "\n",
    "assert sorted(k_largest_sort(a, 10)) == sorted(a)[-10:], \"FAIL!\"  \n",
    "assert sorted(k_largest_quickselect(a, 10)) == sorted(a)[-10:], \"FAIL!\"  \n",
    "assert sorted(k_largest_heap(a, 10)) == sorted(a)[-10:], \"FAIL!\" "
   ]
  },
  {
   "cell_type": "markdown",
   "metadata": {
    "slideshow": {
     "slide_type": "subslide"
    }
   },
   "source": [
    "---\n",
    "\n",
    "### Exercise: compute distinct elements\n",
    "You are given a list A of elements and you want to obtain the list of distict elements in A.\n",
    "\n",
    "There are two possible algorithms to do this:\n",
    "\n",
    "- Use ```list(set(A))```\n",
    "- Sort A and then scan. Implement this as a function ```distinct(A)``` \n",
    "\n",
    "Compare these two approaches by varying the size of the array and the number of distinct elements."
   ]
  },
  {
   "cell_type": "code",
   "execution_count": 39,
   "metadata": {},
   "outputs": [],
   "source": [
    "def distinct(A):\n",
    "    A.sort() \n",
    "    distinct_elems = []\n",
    "    for elem in A:\n",
    "        if elem not in distinct_elems:\n",
    "            distinct_elems.append(elem)\n",
    "    return distinct_elems"
   ]
  },
  {
   "cell_type": "code",
   "execution_count": 40,
   "metadata": {},
   "outputs": [],
   "source": [
    "# check the implementation\n",
    "a = get_random_array(1000)\n",
    "\n",
    "assert distinct(a) == sorted(list(set(a))), \"FAIL!\""
   ]
  },
  {
   "cell_type": "code",
   "execution_count": 41,
   "metadata": {},
   "outputs": [
    {
     "name": "stdout",
     "output_type": "stream",
     "text": [
      "195 µs ± 86 µs per loop (mean ± std. dev. of 7 runs, 10000 loops each)\n",
      "2.53 ms ± 466 µs per loop (mean ± std. dev. of 7 runs, 100 loops each)\n"
     ]
    }
   ],
   "source": [
    "# what's the fastest approach?\n",
    "a = get_random_array(10000, 10)\n",
    "\n",
    "%timeit list(set(a))\n",
    "%timeit distinct(a)"
   ]
  },
  {
   "cell_type": "markdown",
   "metadata": {},
   "source": [
    "---\n",
    "\n",
    "### Exercise: Pareto frontier of a set of points in 2-D space (aka Skyline problem)\n",
    "We are given a set $S$ of $n$ 2D points.\n",
    "A point $(x,y)$ dominates a point $(x',y')$ iff $𝑥'\\leq 𝑥$ and $y'\\leq 𝑦$. \n",
    "Our goal is to find the set $P$ of dominating points in $S$. \n",
    "This corresponds to find the Pareto frontier (or, equivalently, the skyline). \n",
    "\n",
    "The problem can be solved in $\\Theta(n\\log n)$ time.\n",
    "\n",
    "To find $P$ we need to sort points in $S$ by $x$ in descending order, \n",
    "and if $x$′𝑠 the same by $y$ in descending order. This takes $\\Theta(n\\log n)$ time. \n",
    "Then, we do the following.\n",
    "\n",
    "- Include first point in $P$ and remember this point as $𝑇$. \n",
    "- Iterates through the point (let $C$ current point):\n",
    "* if $C$ is dominated by $T$, then skip $C$ and go to next point;\n",
    "* Otherwise, include $C$ in $P$ and set $𝑇=𝐶$.\n",
    "\n",
    "This step can be performed in linear time.\n",
    "\n",
    "Implement the function ```pareto_frontier(S)```, which returns the pareto frontier $P$ of the points in $S$.\n"
   ]
  },
  {
   "cell_type": "code",
   "execution_count": 42,
   "metadata": {},
   "outputs": [],
   "source": [
    "def pareto_frontier(S):\n",
    "    S.sort(key = lambda point: (point[0], point[1]), reverse = True) # sort points in S by x and y in decreasing order\n",
    "    P = [] # dominating points in S, i.e. Pareto frontier\n",
    "    T = S[0] \n",
    "    P.append(T)\n",
    "    for C in S: # iterate through the points in S (C: current point)\n",
    "        if (C[0] <= T[0]) and (C[1] <= T[1]): # if C is dominated by T, then skip C and go to next point\n",
    "            continue\n",
    "        else:\n",
    "            P.append(C) # include C in P\n",
    "            T = C\n",
    "    return P[::-1] # reverse the order of the points "
   ]
  },
  {
   "cell_type": "code",
   "execution_count": 43,
   "metadata": {},
   "outputs": [
    {
     "name": "stdout",
     "output_type": "stream",
     "text": [
      "[(1, 10), (3, 9.5), (4, 9), (7, 8), (8, 7)]\n"
     ]
    }
   ],
   "source": [
    "# check the implementation\n",
    "S = [(6, 7.5), (7, 8), (8, 7), (2, 9), (3, 9.5), (1, 10), (4, 9), (5, 8)]\n",
    "\n",
    "print(pareto_frontier(S))\n",
    "\n",
    "assert pareto_frontier(S) == [(1, 10), (3, 9.5), (4, 9), (7, 8), (8, 7)], \"Fail!\""
   ]
  },
  {
   "cell_type": "markdown",
   "metadata": {},
   "source": [
    "----\n",
    "# Lecture 5\n",
    "----\n",
    "\n",
    "### Exercise: Open Addressing with linear probing\n",
    "Complete the implementation below by implementing ```Lookup```and ```Delete```."
   ]
  },
  {
   "cell_type": "code",
   "execution_count": 44,
   "metadata": {},
   "outputs": [],
   "source": [
    "class linear_probing_set:\n",
    "    def __init__(self, size):\n",
    "        \n",
    "        self.T = [None]*size\n",
    "        self.prime = 993319\n",
    "        self.a = random.randint(2, self.prime-1)\n",
    "        self.b = random.randint(2, self.prime-1)\n",
    "        self.n_keys = 0\n",
    "    \n",
    "    def insert(self, key): # fix len(T) < self.n_keys if you want\n",
    "        if self.lookup(key):\n",
    "            return\n",
    "        h = self.hash(key)\n",
    "        while self.T[h] != None and self.T[h] != 'D':\n",
    "            h += 1\n",
    "            if h == len(self.T):\n",
    "                h = 0\n",
    "        self.T[h] = key\n",
    "        self.n_keys += 1\n",
    "    \n",
    "    # Return True if key is in the set, False otherwise\n",
    "    def lookup(self, key):\n",
    "        h = self.hash(key)\n",
    "        counter = 0\n",
    "        while self.T[h] != None and counter <= len(self.T):\n",
    "            if self.T[h] == key:\n",
    "                return True\n",
    "            h += 1\n",
    "            counter += 1\n",
    "            if h == len(self.T):\n",
    "                h = 0\n",
    "        return False\n",
    "    \n",
    "    def delete(self, key): \n",
    "        h = self.hash(key)\n",
    "        counter = 0\n",
    "        while self.T[h] != None and counter <= len(self.T):\n",
    "            if self.T[h] == key:\n",
    "                self.T[h] = 'D' \n",
    "                self.n_keys -= 1 # reduce by one the number of keys\n",
    "            h += 1\n",
    "            counter += 1\n",
    "            if h == len(self.T):\n",
    "                h == 0\n",
    "        return False\n",
    "    \n",
    "    def hash(self, key):\n",
    "        return ((self.a*key + self.b) % self.prime) % len(self.T)\n",
    "    \n",
    "    def len(self):\n",
    "        return self.n_keys"
   ]
  },
  {
   "cell_type": "code",
   "execution_count": 45,
   "metadata": {},
   "outputs": [],
   "source": [
    "# check the implementation\n",
    "n = 10000\n",
    "\n",
    "a = get_random_array(n, n)\n",
    "\n",
    "queries = get_random_array(n, n)\n",
    "\n",
    "lp_set = linear_probing_set(2*n)\n",
    "std_set = set()\n",
    "\n",
    "for key in a:\n",
    "    lp_set.insert(key)\n",
    "    std_set.add(key)\n",
    "\n",
    "assert len(std_set) == lp_set.len(), \"Fail len!\"     \n",
    "    \n",
    "for key in a:\n",
    "    assert lp_set.lookup(key) == True, \"Lookup fail a\"\n",
    "\n",
    "for key in queries:\n",
    "    assert lp_set.lookup(key) == (key in std_set), \"Lookup fail queries\"\n",
    "    \n",
    "for key in a[:300]:\n",
    "    lp_set.delete(key)\n",
    "    try:\n",
    "        std_set.remove(key)\n",
    "    except:\n",
    "        pass # the key has been already removed\n",
    "          \n",
    "    assert lp_set.lookup(key) == (key in std_set), \"Lookup fail delete\"  "
   ]
  },
  {
   "cell_type": "markdown",
   "metadata": {},
   "source": [
    "----\n",
    "### Exercise: Hashing with Chains\n",
    "Complete the implementation below by implementing ```Lookup``` and ```Delete```."
   ]
  },
  {
   "cell_type": "code",
   "execution_count": 46,
   "metadata": {},
   "outputs": [],
   "source": [
    "class chaining_set:\n",
    "    def __init__(self, size):\n",
    "        \n",
    "        self.T = []\n",
    "        for _ in range(size):\n",
    "            self.T.append([])\n",
    "        ## self.T = [ [] for _ in range(size)]\n",
    "        ## why not self.T = [ [] ] * size ?\n",
    "        \n",
    "        self.prime = 993319\n",
    "        self.a = random.randint(2, self.prime-1)\n",
    "        self.b = random.randint(2, self.prime-1)\n",
    "        self.n_keys = 0\n",
    "        \n",
    "    def insert(self, key):\n",
    "        if self.lookup(key):\n",
    "            return\n",
    "        \n",
    "        h = self.hash(key)\n",
    "        self.T[h].append( key )\n",
    "        self.n_keys += 1\n",
    "    \n",
    "    # return True if key is in the set, False otherwise\n",
    "    def lookup(self, key):\n",
    "        h = self.hash(key)\n",
    "        for i in range(len(self.T[h])):\n",
    "            if self.T[h][i] == key:\n",
    "                return True\n",
    "        return False\n",
    "    \n",
    "    def delete(self, key):\n",
    "        h = self.hash(key)\n",
    "        for i in range(len(self.T[h])):\n",
    "            if self.T[h][i] == key:\n",
    "                self.T[h][i], self.T[h][-1] = self.T[h][-1], self.T[h][i] # switching the i-th element to the last position\n",
    "                self.T[h].pop() # remove the element \n",
    "                self.n_keys -= 1 # reduce by one the number of keys\n",
    "                break\n",
    "            \n",
    "    def hash(self, key):\n",
    "        return ((self.a*key + self.b) % self.prime) % len(self.T)\n",
    "    \n",
    "    def len(self):\n",
    "        return self.n_keys"
   ]
  },
  {
   "cell_type": "code",
   "execution_count": 47,
   "metadata": {},
   "outputs": [],
   "source": [
    "# check the implementation\n",
    "n = 10000\n",
    "\n",
    "a = get_random_array(n, n)\n",
    "\n",
    "queries = get_random_array(n, n)\n",
    "\n",
    "c_set = chaining_set(2*n)\n",
    "std_set = set()\n",
    "\n",
    "for key in a:\n",
    "    c_set.insert(key)\n",
    "    std_set.add(key)\n",
    "\n",
    "assert len(std_set) == c_set.len(), \"Fail len!\"     \n",
    "    \n",
    "for key in a:\n",
    "    assert c_set.lookup(key) == True, \"Lookup fail a\"\n",
    "\n",
    "for key in queries:\n",
    "    assert c_set.lookup(key) == (key in std_set), \"Lookup fail queries\"\n",
    "    \n",
    "for key in a[:300]:\n",
    "    c_set.delete(key)\n",
    "    try:\n",
    "        std_set.remove(key)\n",
    "    except:\n",
    "        pass # the key has been already removed\n",
    "          \n",
    "    assert c_set.lookup(key) == (key in std_set), \"Lookup fail delete\"  "
   ]
  },
  {
   "cell_type": "markdown",
   "metadata": {},
   "source": [
    "----\n",
    "\n",
    "### Exercise: Dictionary\n",
    "Modify the previous code (i.e., Hashing with Chains) to implement a dictionary, i.e., store a value together with each key. \n",
    "You need to implement methods:\n",
    "- ```Insert(key, value)```: insert the key with its value. If the key was already present, change its value;\n",
    "- ```Delete(key)```: remove the key;\n",
    "- ```Lookup(key)```: return True if the key is present, False otherwise;\n",
    "- ```Value(key)```: return the value associated with the key. It returns None, if the key is not present.\n",
    "\n",
    "I suggest to store pairs (key, value) within the lists."
   ]
  },
  {
   "cell_type": "code",
   "execution_count": 48,
   "metadata": {},
   "outputs": [],
   "source": [
    "class chaining_dictionary:\n",
    "    def __init__(self, size):\n",
    "        \n",
    "        self.T = []\n",
    "        for _ in range(size):\n",
    "            self.T.append([])\n",
    "        \n",
    "        self.prime = 993319\n",
    "        self.a = random.randint(2, self.prime-1)\n",
    "        self.b = random.randint(2, self.prime-1)\n",
    "        self.n_keys = 0\n",
    "        \n",
    "    def insert(self, key, value):\n",
    "        h = self.hash(key)\n",
    "        for i, tup in enumerate(self.T[h]): # self.T[h] is a list of tuples i.e. (key, value)\n",
    "            if tup[0] == key:\n",
    "                self.T[h][i] = (key, value)\n",
    "                return\n",
    "        self.T[h].append((key, value))\n",
    "        self.n_keys += 1\n",
    "    \n",
    "    def lookup(self, key):\n",
    "        h = self.hash(key)\n",
    "        for i, tup in enumerate(self.T[h]):  \n",
    "            if tup[0] == key: # if the key in the tuple is equal to the key we are looking for, then we return True\n",
    "                return True\n",
    "        return False\n",
    "    \n",
    "    def delete(self, key):\n",
    "        h = self.hash(key)\n",
    "        for i, tup in enumerate(self.T[h]):\n",
    "            if tup[0] == key:\n",
    "                self.T[h][i], self.T[h][-1] = self.T[h][-1], self.T[h][i] # switching the i-th element to the last position\n",
    "                self.T[h].pop() # removing the element that we wanted to eliminate in such a way not to modify the position of the other elements\n",
    "                self.n_keys-=1 # reduce by one the number of keys\n",
    "                break\n",
    "            \n",
    "    def value(self, key):\n",
    "        h = self.hash(key)\n",
    "        for i, tup in enumerate(self.T[h]):\n",
    "            if tup[0] == key: # if the key in the tuple is equal to the key we are looking for\n",
    "                return tup[1]\n",
    "        return None\n",
    "        \n",
    "    def hash(self, key):\n",
    "        return ((self.a*key + self.b) % self.prime) % len(self.T)\n",
    "    \n",
    "    def len(self):\n",
    "        return self.n_keys"
   ]
  },
  {
   "cell_type": "code",
   "execution_count": 49,
   "metadata": {},
   "outputs": [],
   "source": [
    "# check the implementation\n",
    "n = 10000\n",
    "\n",
    "keys = get_random_array(n, n)\n",
    "values = get_random_array(n, n)\n",
    "a = list(zip(keys, values))\n",
    "\n",
    "c_dic = chaining_dictionary(2*n)\n",
    "std_dic = dict()\n",
    "\n",
    "for key, value in a:\n",
    "    c_dic.insert(key, value)\n",
    "    std_dic[key] = value\n",
    "\n",
    "assert len(std_dic) == c_dic.len(), \"Fail len!\"     \n",
    "    \n",
    "for key in keys:\n",
    "    assert c_dic.lookup(key) == True, \"Lookup fail a\"\n",
    "\n",
    "for key in keys:\n",
    "    assert c_dic.lookup(key) == (key in std_dic), \"Lookup fail queries\"\n",
    "    \n",
    "for key in keys[:300]:\n",
    "    c_dic.delete(key)\n",
    "    try:\n",
    "        std_dic.pop(key)\n",
    "    except:\n",
    "        pass # the key has been already removed\n",
    "          \n",
    "    assert c_dic.lookup(key) == (key in std_dic), \"Lookup fail delete\"  "
   ]
  },
  {
   "cell_type": "markdown",
   "metadata": {},
   "source": [
    "---\n",
    "# Lecture 6\n",
    "\n",
    "--- \n",
    "### Exercise: Implements your own GroupBy\n",
    "\n",
    "In the rest of your life you are going to use GroupBy implemented in some library, but in this exercise we will implement our own simplified version. \n",
    "\n",
    "You are give a list of tuples, all with the same number of components. In our simplified implementation  of a pandas' DataFrame each tuple in the list is a row of the DataFrame. Each component of a tuple is a value of a column.\n",
    "\n",
    "#### Part I\n",
    "Our first goal is to implement an index to efficiently group by one of the component in the list. \n",
    "\n",
    "We'd like to implement a function ```groupBy(L, id)``` which takes the list of tuples ```L``` and the ```id``` of the component and returns a dictionary. The dictionary is an index very similar to what you implemented for a search engine. \n",
    "We have a key for each distinct value in column ```id```. The value of a certain key ```k``` is the list of indexes of all the tuple having value ```k``` in the column ```id```.\n",
    "This means that, if index ```p``` is in the list of key ```k```, then ```L[p][id] = k```.\n",
    "\n",
    "For example it we have tuples \n",
    "\n",
    "|   | \n",
    "|:-|\n",
    "(1, 5, 11)\n",
    "(0, 4, 1000)\n",
    "(1, 2, 11)\n",
    "(1, 4, 66) \n",
    "(0, 3, 99)\n",
    "\n",
    "The groupBy with id=0 will group by first column.\n",
    "\n",
    "The index is\n",
    "\n",
    "|   | \n",
    "|:--| \n",
    "0: [1, 4]\n",
    "1: [0, 2, 3]\n",
    " \n",
    "#### Part II\n",
    "We'd like to implement a function ```max_groupBy(index, L)``` which takes the index built in previous part on list ```L``` and returns a dictionary. \n",
    "We have a key for each distinct value in column ```id```. The value of a certain key ```k``` is the list. The list has a element for each column: the maximum value in that column for each tuple having value ```k``` in the column ```id```. This, of course, must be implemented by using the index.\n",
    "\n",
    "In the example before, we would obtain the dictionary\n",
    "\n",
    "|   | \n",
    "|:--| \n",
    "0: [0, 4, 1000]\n",
    "1: [1, 5, 66]\n",
    " \n"
   ]
  },
  {
   "cell_type": "code",
   "execution_count": 50,
   "metadata": {},
   "outputs": [],
   "source": [
    "### Part I\n",
    "\n",
    "def groupBy(L, Id):\n",
    "    index = dict()\n",
    "    for i, tup in enumerate(L): \n",
    "        if tup[Id] not in index:\n",
    "            index[tup[Id]] = [] # if the value is not in index then I create a new list\n",
    "        index[tup[Id]].append(i) # then append the position of the row\n",
    "    return index"
   ]
  },
  {
   "cell_type": "code",
   "execution_count": 51,
   "metadata": {},
   "outputs": [],
   "source": [
    "### Part II\n",
    "\n",
    "def max_groupBy(index, L):\n",
    "    max_values = dict()\n",
    "    for k, list_values in index.items():\n",
    "        max_values[k] = [0]*len(L[0]) # for each key k a list with len(L[0]) (in our case 3) positions is created\n",
    "        for i in list_values: # for each position in the list\n",
    "            for j in range(len(L[0])): # for each tuple where the key is a certain value\n",
    "                if L[i][j] > max_values[k][j]: \n",
    "                    max_values[k][j] = L[i][j]\n",
    "    return max_values"
   ]
  },
  {
   "cell_type": "code",
   "execution_count": 52,
   "metadata": {},
   "outputs": [
    {
     "name": "stdout",
     "output_type": "stream",
     "text": [
      "{1: [0, 2, 3], 0: [1, 4]}\n",
      "{1: [1, 5, 66], 0: [0, 4, 1000]}\n"
     ]
    }
   ],
   "source": [
    "# check the implementation\n",
    "data = [(1, 5, 11), (0, 4, 1000), (1, 2, 11), (1, 4, 66), (0, 3, 99)]\n",
    "\n",
    "idx = groupBy(data, 0)\n",
    "print(idx)\n",
    "print(max_groupBy(idx, data))\n",
    "\n",
    "assert groupBy(data, 0) == {1:[0, 2, 3], 0: [1, 4]}, \" FAIL! \"\n",
    "assert max_groupBy(idx, data) == {1: [1, 5, 66], 0: [0, 4, 1000]}, \" FAIL! \""
   ]
  },
  {
   "cell_type": "markdown",
   "metadata": {},
   "source": [
    "---\n",
    "# Lecture 7\n",
    "---\n",
    "### Exercise: Static sorted map\n",
    "Complete and test the implementation below. You have to use binary search to solve predecessor and successor queries on a sorted array."
   ]
  },
  {
   "cell_type": "code",
   "execution_count": 53,
   "metadata": {},
   "outputs": [],
   "source": [
    "class StaticSortedMap:\n",
    "    \n",
    "    def __init__(self, A): # assume A is already sorted\n",
    "        self.sorted_map = A[:] # copy input array\n",
    "    \n",
    "    def min(self):\n",
    "        return self.sorted_map[0]\n",
    "    \n",
    "    def max(self):\n",
    "        return self.sorted_map[-1]\n",
    "        \n",
    "    def search(self, key): \n",
    "        def __binary_search(p, e, key):\n",
    "            if p > e:\n",
    "                return False, p\n",
    "            if p == e:\n",
    "                if self.sorted_map[p] == key:\n",
    "                    return True, p\n",
    "            q = (p+e)//2\n",
    "            if self.sorted_map[q] == key:\n",
    "                return True, q\n",
    "            if self.sorted_map[q] < key:\n",
    "                return __binary_search(q+1, e, key)\n",
    "            else:\n",
    "                return __binary_search(p, q-1, key)\n",
    "        return __binary_search(0, len(self.sorted_map)-1, key)\n",
    "                \n",
    "    def predecessor(self, key):\n",
    "        boolean, idx = self.search(key)\n",
    "        if idx == 0:\n",
    "            return None\n",
    "        if boolean == True:\n",
    "            return idx-1, self.sorted_map[idx-1] # return position and its corresponding value\n",
    "        return idx-1, self.sorted_map[idx-1] # even if the predecessor doesn't exist\n",
    "    \n",
    "    def successor(self, key):\n",
    "        boolean, idx = self.search(key)\n",
    "        if idx >= len(self.sorted_map)-1:\n",
    "            return None\n",
    "        if boolean == True:\n",
    "            return idx+1, self.sorted_map[idx+1]\n",
    "        return idx, self.sorted_map[idx]"
   ]
  },
  {
   "cell_type": "code",
   "execution_count": 54,
   "metadata": {},
   "outputs": [
    {
     "name": "stdout",
     "output_type": "stream",
     "text": [
      "[1, 2, 3, 5, 7, 11, 13, 17, 19, 23, 27, 29, 31]\n",
      "Search (True, 12)\n",
      "Search (False, 13)\n",
      "Successor (5, 11)\n",
      "Successor None\n",
      "Predecessor None\n",
      "Predecessor (12, 31)\n"
     ]
    }
   ],
   "source": [
    "# check the implementation\n",
    "a = [1, 2, 3, 5, 7, 11, 13, 17, 19, 23, 27, 29, 31]\n",
    "print(a)\n",
    "\n",
    "ssm = StaticSortedMap(a)\n",
    "\n",
    "print(\"Search\", ssm.search(31))\n",
    "print(\"Search\", ssm.search(40))\n",
    "print(\"Successor\", ssm.successor(10))\n",
    "print(\"Successor\", ssm.successor(76))\n",
    "print(\"Predecessor\", ssm.predecessor(1))\n",
    "print(\"Predecessor\", ssm.predecessor(49))"
   ]
  },
  {
   "cell_type": "markdown",
   "metadata": {},
   "source": [
    "----\n",
    "### Exercise: Binary Search Tree\n",
    "Extend the previous implementation of Binary Search Trees to support **search(x)** operation. Test your implementation."
   ]
  },
  {
   "cell_type": "code",
   "execution_count": 55,
   "metadata": {},
   "outputs": [],
   "source": [
    "class BinarySearchTree:\n",
    "    # This is a Node class that is internal to the BinarySearchTree class\n",
    "    class __Node:\n",
    "        def __init__(self, val, left=None, right=None):\n",
    "            self.val = val\n",
    "            self.left = left\n",
    "            self.right = right\n",
    "            \n",
    "        def getVal(self): \n",
    "            return self.val\n",
    "\n",
    "        def setVal(self, newval): \n",
    "            self.val = newval\n",
    "            \n",
    "        def getLeft(self): \n",
    "            return self.left\n",
    "        \n",
    "        def getRight(self): \n",
    "            return self.right\n",
    "        \n",
    "        def setLeft(self, newleft): \n",
    "            self.left = newleft\n",
    "        \n",
    "        def setRight(self, newright): \n",
    "            self.right = newright\n",
    "            \n",
    "        # This method deserves a little explanation. It does an inorder traversal\n",
    "        # of the nodes of the tree yielding all the values. In this way, we get\n",
    "        # the values in ascending order.       \n",
    "        def __iter__(self):\n",
    "            if self.left != None:\n",
    "                for elem in self.left: \n",
    "                    yield elem\n",
    "            yield self.val\n",
    "            if self.right != None:\n",
    "                for elem in self.right:\n",
    "                    yield elem\n",
    "                    \n",
    "    # Below methods of the BinarySearchTree class.\n",
    "    def __init__(self): \n",
    "        self.root = None\n",
    "         \n",
    "    def insert(self, val):   \n",
    "        # The __insert function is recursive and is not a passed a self parameter. It is a # static function (not a method of the class) but is hidden inside the insert\n",
    "        # function so users of the class will not know it exists.\n",
    "        def __insert(root, val): \n",
    "            if root == None:\n",
    "                return BinarySearchTree.__Node(val)\n",
    "            if val < root.getVal(): \n",
    "                root.setLeft( __insert(root.getLeft(), val) )\n",
    "            else: \n",
    "                root.setRight(__insert(root.getRight(), val))\n",
    "            return root\n",
    "        \n",
    "        self.root = __insert(self.root, val)\n",
    "        \n",
    "    def search(self, val):\n",
    "        node = self.root\n",
    "        def __search(node, val):\n",
    "            if node != None:\n",
    "                if val == node.getVal():\n",
    "                    return (True, val)\n",
    "                elif val < node.getVal():\n",
    "                    return __search(node.left, val)\n",
    "                elif val > node.getVal():\n",
    "                    return __search(node.right, val)\n",
    "            return (False, val) # base case when node == None\n",
    "        return __search(node, val)"
   ]
  },
  {
   "cell_type": "code",
   "execution_count": 56,
   "metadata": {},
   "outputs": [],
   "source": [
    "# check the implementation\n",
    "a = [1, 2, 3, 5, 7, 11, 13, 17, 19, 23, 27, 29, 31]\n",
    "bst = BinarySearchTree()\n",
    "    \n",
    "for i in a: \n",
    "    bst.insert(i)\n",
    "    \n",
    "for j in a:\n",
    "    assert bst.search(j) == (True,j), \"Fail search!\""
   ]
  },
  {
   "cell_type": "markdown",
   "metadata": {},
   "source": [
    "---\n",
    "# Lecture 8\n",
    "---\n",
    "### Exercise: Strongly Connected Components\n",
    "The goal of this exercise is to implement the following algorithm to compute the strongly connected components of a directed graph $G$. [See here](https://www.hackerearth.com/practice/algorithms/graphs/strongly-connected-components/tutorial/). \n",
    "\n",
    "In a directed graph a component is strongly connected if there is a directed path from any vertex to every other vertex of the component. The problem asks to is to partition the graph into maximal strongly connected components.\n",
    "\n",
    "NetworkX provides a method to compute the strongly connected components of a graph [here](https://networkx.github.io/documentation/stable/reference/algorithms/generated/networkx.algorithms.components.strongly_connected_components.html#networkx.algorithms.components.strongly_connected_components). \n",
    "\n",
    "Your goal is to implement the Kosaraju's Linear time algorithm to find Strongly Connected Component. \n",
    "The algorithm is described [here](https://www.hackerearth.com/practice/algorithms/graphs/strongly-connected-components/tutorial).\n",
    "\n",
    "It works in three steps. \n",
    "\n",
    "- Do a DFS on the original graph, keeping track of the DFS finish times of each node. This can be done with a stack, when some  finishes put the source vertex on the stack. This way node with highest finishing time will be on top of the stack.\n",
    "- Reverse the original graph, i.e., if there is an edge $(u,v)$ in the original graph, add the edge $(v,u)$ in the reversed one.\n",
    "-  Do DFS on the reversed graph, with the source vertex as the vertex on top of the stack. When DFS finishes, all nodes visited will form one Strongly Connected Component. If any more nodes remain unvisited, this means there are more Strongly Connected Component's, so pop vertices from top of the stack until a valid unvisited node is found. This will have the highest finishing time of all currently unvisited nodes.\n",
    "\n",
    "Take a look at [DFS traversal documentation](https://networkx.github.io/documentation/stable/reference/algorithms/traversal.html#module-networkx.algorithms.traversal.depth_first_search).\n",
    "Note that the finishing time of a node can be inferred from its position in the DFS tree. "
   ]
  },
  {
   "cell_type": "code",
   "execution_count": 57,
   "metadata": {},
   "outputs": [],
   "source": [
    "import networkx as nx"
   ]
  },
  {
   "cell_type": "code",
   "execution_count": 58,
   "metadata": {},
   "outputs": [],
   "source": [
    "def StronglyConnectedComponents(G):\n",
    "    stack = list(nx.dfs_postorder_nodes(G)) \n",
    "    \n",
    "    G_reversed = G.reverse() # reverse the original graph\n",
    "    \n",
    "    scc = [] # empty list to store the strongly connected components\n",
    "    nodes_visited = set() # empty set to store the nodes visited \n",
    "    while len(stack) != 0: # (while stack is not empty)\n",
    "        time = []\n",
    "        source = stack.pop()\n",
    "        preorder_nodes = list(nx.dfs_preorder_nodes(G_reversed, source))\n",
    "        for i in preorder_nodes:\n",
    "            if i not in nodes_visited:\n",
    "                nodes_visited.add(i)\n",
    "                time.append(i)\n",
    "        if len(time) != 0:\n",
    "            scc.append(set(time))\n",
    "    return scc"
   ]
  },
  {
   "cell_type": "code",
   "execution_count": 59,
   "metadata": {},
   "outputs": [
    {
     "name": "stdout",
     "output_type": "stream",
     "text": [
      "[{0, 1, 2, 3}, {4, 5, 6}, {7}]\n"
     ]
    }
   ],
   "source": [
    "# check the implementation\n",
    "DG = nx.DiGraph()\n",
    "DG.add_edges_from([(0, 1), (1, 2), (2, 3), (3, 0), (2, 4), (4, 5), (5, 6), (6, 4), (6, 7)])\n",
    "\n",
    "scc = StronglyConnectedComponents(DG)\n",
    "print(scc)\n",
    "\n",
    "for node in scc:\n",
    "        assert True == (node in list(nx.strongly_connected_components(DG))), \"Fail!\""
   ]
  }
 ],
 "metadata": {
  "kernelspec": {
   "display_name": "Python 3",
   "language": "python",
   "name": "python3"
  },
  "language_info": {
   "codemirror_mode": {
    "name": "ipython",
    "version": 3
   },
   "file_extension": ".py",
   "mimetype": "text/x-python",
   "name": "python",
   "nbconvert_exporter": "python",
   "pygments_lexer": "ipython3",
   "version": "3.8.8"
  }
 },
 "nbformat": 4,
 "nbformat_minor": 4
}
